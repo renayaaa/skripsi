{
 "cells": [
  {
   "cell_type": "code",
   "execution_count": 4,
   "id": "3cf00424-9dd7-4533-a640-bb76f7fcc3bf",
   "metadata": {},
   "outputs": [],
   "source": [
    "import pandas as pd"
   ]
  },
  {
   "cell_type": "code",
   "execution_count": 5,
   "id": "5cfeded8-d8f4-4029-9351-6f748aa96229",
   "metadata": {},
   "outputs": [
    {
     "name": "stdout",
     "output_type": "stream",
     "text": [
      "Requirement already satisfied: pandas in c:\\users\\tantri kusuma w\\anaconda3\\lib\\site-packages (2.2.2)\n",
      "Requirement already satisfied: numpy>=1.26.0 in c:\\users\\tantri kusuma w\\anaconda3\\lib\\site-packages (from pandas) (1.26.4)\n",
      "Requirement already satisfied: python-dateutil>=2.8.2 in c:\\users\\tantri kusuma w\\anaconda3\\lib\\site-packages (from pandas) (2.9.0.post0)\n",
      "Requirement already satisfied: pytz>=2020.1 in c:\\users\\tantri kusuma w\\anaconda3\\lib\\site-packages (from pandas) (2024.1)\n",
      "Requirement already satisfied: tzdata>=2022.7 in c:\\users\\tantri kusuma w\\anaconda3\\lib\\site-packages (from pandas) (2023.3)\n",
      "Requirement already satisfied: six>=1.5 in c:\\users\\tantri kusuma w\\anaconda3\\lib\\site-packages (from python-dateutil>=2.8.2->pandas) (1.16.0)\n"
     ]
    }
   ],
   "source": [
    "!pip install pandas"
   ]
  },
  {
   "cell_type": "code",
   "execution_count": 6,
   "id": "145a4d17-ff09-4e03-b28d-f17af1e62310",
   "metadata": {},
   "outputs": [
    {
     "name": "stdout",
     "output_type": "stream",
     "text": [
      "Requirement already satisfied: pykan in c:\\users\\tantri kusuma w\\anaconda3\\lib\\site-packages (0.2.1)\n",
      "Requirement already satisfied: torch in c:\\users\\tantri kusuma w\\anaconda3\\lib\\site-packages (2.3.1)\n",
      "Requirement already satisfied: filelock in c:\\users\\tantri kusuma w\\anaconda3\\lib\\site-packages (from torch) (3.13.1)\n",
      "Requirement already satisfied: typing-extensions>=4.8.0 in c:\\users\\tantri kusuma w\\anaconda3\\lib\\site-packages (from torch) (4.11.0)\n",
      "Requirement already satisfied: sympy in c:\\users\\tantri kusuma w\\anaconda3\\lib\\site-packages (from torch) (1.12)\n",
      "Requirement already satisfied: networkx in c:\\users\\tantri kusuma w\\anaconda3\\lib\\site-packages (from torch) (3.2.1)\n",
      "Requirement already satisfied: jinja2 in c:\\users\\tantri kusuma w\\anaconda3\\lib\\site-packages (from torch) (3.1.4)\n",
      "Requirement already satisfied: fsspec in c:\\users\\tantri kusuma w\\anaconda3\\lib\\site-packages (from torch) (2024.3.1)\n",
      "Requirement already satisfied: mkl<=2021.4.0,>=2021.1.1 in c:\\users\\tantri kusuma w\\anaconda3\\lib\\site-packages (from torch) (2021.4.0)\n",
      "Requirement already satisfied: intel-openmp==2021.* in c:\\users\\tantri kusuma w\\anaconda3\\lib\\site-packages (from mkl<=2021.4.0,>=2021.1.1->torch) (2021.4.0)\n",
      "Requirement already satisfied: tbb==2021.* in c:\\users\\tantri kusuma w\\anaconda3\\lib\\site-packages (from mkl<=2021.4.0,>=2021.1.1->torch) (2021.13.0)\n",
      "Requirement already satisfied: MarkupSafe>=2.0 in c:\\users\\tantri kusuma w\\anaconda3\\lib\\site-packages (from jinja2->torch) (2.1.3)\n",
      "Requirement already satisfied: mpmath>=0.19 in c:\\users\\tantri kusuma w\\anaconda3\\lib\\site-packages (from sympy->torch) (1.3.0)\n"
     ]
    }
   ],
   "source": [
    "!pip install pykan\n",
    "!pip install torch\n",
    "\n",
    "from kan import KAN\n",
    "import matplotlib.pyplot as plt\n",
    "import torch\n",
    "import numpy as np\n",
    "import pandas as pd"
   ]
  },
  {
   "cell_type": "code",
   "execution_count": 7,
   "id": "b08b0e7f-72ce-4769-9ecf-709a96057410",
   "metadata": {},
   "outputs": [],
   "source": [
    "import torch\n",
    "import pandas as pd\n",
    "import matplotlib.pyplot as plt\n",
    "from sklearn.model_selection import train_test_split\n"
   ]
  },
  {
   "cell_type": "code",
   "execution_count": 29,
   "id": "27dc4e64-0800-4e3f-b77a-ec325a198f26",
   "metadata": {},
   "outputs": [],
   "source": [
    "df = pd.read_csv('C:/data/obesity_data.csv')"
   ]
  },
  {
   "cell_type": "code",
   "execution_count": 31,
   "id": "731c1468-9ef8-4969-903a-92239883d808",
   "metadata": {},
   "outputs": [
    {
     "data": {
      "text/html": [
       "<div>\n",
       "<style scoped>\n",
       "    .dataframe tbody tr th:only-of-type {\n",
       "        vertical-align: middle;\n",
       "    }\n",
       "\n",
       "    .dataframe tbody tr th {\n",
       "        vertical-align: top;\n",
       "    }\n",
       "\n",
       "    .dataframe thead th {\n",
       "        text-align: right;\n",
       "    }\n",
       "</style>\n",
       "<table border=\"1\" class=\"dataframe\">\n",
       "  <thead>\n",
       "    <tr style=\"text-align: right;\">\n",
       "      <th></th>\n",
       "      <th>Age</th>\n",
       "      <th>Height</th>\n",
       "      <th>Weight</th>\n",
       "      <th>BMI</th>\n",
       "      <th>Label</th>\n",
       "    </tr>\n",
       "  </thead>\n",
       "  <tbody>\n",
       "    <tr>\n",
       "      <th>0</th>\n",
       "      <td>56</td>\n",
       "      <td>174</td>\n",
       "      <td>72</td>\n",
       "      <td>24</td>\n",
       "      <td>Normal weight</td>\n",
       "    </tr>\n",
       "    <tr>\n",
       "      <th>1</th>\n",
       "      <td>69</td>\n",
       "      <td>164</td>\n",
       "      <td>90</td>\n",
       "      <td>33</td>\n",
       "      <td>Obese</td>\n",
       "    </tr>\n",
       "    <tr>\n",
       "      <th>2</th>\n",
       "      <td>46</td>\n",
       "      <td>168</td>\n",
       "      <td>73</td>\n",
       "      <td>26</td>\n",
       "      <td>Overweight</td>\n",
       "    </tr>\n",
       "    <tr>\n",
       "      <th>3</th>\n",
       "      <td>32</td>\n",
       "      <td>168</td>\n",
       "      <td>85</td>\n",
       "      <td>30</td>\n",
       "      <td>Overweight</td>\n",
       "    </tr>\n",
       "    <tr>\n",
       "      <th>4</th>\n",
       "      <td>60</td>\n",
       "      <td>184</td>\n",
       "      <td>69</td>\n",
       "      <td>20</td>\n",
       "      <td>Normal weight</td>\n",
       "    </tr>\n",
       "  </tbody>\n",
       "</table>\n",
       "</div>"
      ],
      "text/plain": [
       "   Age  Height  Weight  BMI          Label\n",
       "0   56     174      72   24  Normal weight\n",
       "1   69     164      90   33          Obese\n",
       "2   46     168      73   26     Overweight\n",
       "3   32     168      85   30     Overweight\n",
       "4   60     184      69   20  Normal weight"
      ]
     },
     "execution_count": 31,
     "metadata": {},
     "output_type": "execute_result"
    }
   ],
   "source": [
    "df.head()"
   ]
  },
  {
   "cell_type": "code",
   "execution_count": 33,
   "id": "827c9f24-a4bc-413d-8b0a-4862397563a3",
   "metadata": {},
   "outputs": [
    {
     "data": {
      "text/plain": [
       "Series([], dtype: float64)"
      ]
     },
     "execution_count": 33,
     "metadata": {},
     "output_type": "execute_result"
    }
   ],
   "source": [
    "nulls = df.isnull().sum().sort_values(ascending=False)\n",
    "nulls = nulls[nulls > 0]\n",
    "nulls_percentage = nulls / len(df) * 100\n",
    "nulls_percentage"
   ]
  },
  {
   "cell_type": "code",
   "execution_count": 35,
   "id": "e7165a5f-bad0-42a5-b231-ab2eec1e06b2",
   "metadata": {},
   "outputs": [
    {
     "data": {
      "text/plain": [
       "3"
      ]
     },
     "execution_count": 35,
     "metadata": {},
     "output_type": "execute_result"
    }
   ],
   "source": [
    "duplicates = df.duplicated().sum()\n",
    "duplicates"
   ]
  },
  {
   "cell_type": "code",
   "execution_count": 37,
   "id": "aedd2d1c-33e0-4332-9760-4ddc25d66274",
   "metadata": {},
   "outputs": [
    {
     "name": "stdout",
     "output_type": "stream",
     "text": [
      "Jumlah baris duplikat: 3\n",
      "Baris-baris duplikat:\n",
      "     Age  Height  Weight  BMI          Label\n",
      "205   32     168      67   24  Normal weight\n",
      "452   77     178      60   19  Normal weight\n",
      "760   54     179      65   20  Normal weight\n",
      "DataFrame tanpa duplikat:\n",
      "     Age  Height  Weight  BMI          Label\n",
      "0     56     174      72   24  Normal weight\n",
      "1     69     164      90   33          Obese\n",
      "2     46     168      73   26     Overweight\n",
      "3     32     168      85   30     Overweight\n",
      "4     60     184      69   20  Normal weight\n",
      "..   ...     ...     ...  ...            ...\n",
      "995   18     156      64   26     Overweight\n",
      "996   35     165      98   36          Obese\n",
      "997   49     157      79   32          Obese\n",
      "998   64     164      58   22  Normal weight\n",
      "999   66     179      75   24  Normal weight\n",
      "\n",
      "[997 rows x 5 columns]\n"
     ]
    }
   ],
   "source": [
    "duplicate_count = df.duplicated().sum()\n",
    "print(f\"Jumlah baris duplikat: {duplicate_count}\")\n",
    "\n",
    "# Baris-baris duplikat\n",
    "duplicates = df[df.duplicated()]\n",
    "print(\"Baris-baris duplikat:\")\n",
    "print(duplicates)\n",
    "\n",
    "# Menghapus baris-baris duplikat\n",
    "df_cleaned = df.drop_duplicates()\n",
    "print(\"DataFrame tanpa duplikat:\")\n",
    "print(df_cleaned)"
   ]
  },
  {
   "cell_type": "code",
   "execution_count": 53,
   "id": "7655b4b0-d599-4d0e-ac03-eb2a82dfecc3",
   "metadata": {},
   "outputs": [],
   "source": [
    "import pandas as pd\n",
    "# Misalkan df adalah DataFrame yang kita miliki\n",
    "data = {\n",
    "    'Age': [56, 69, 46, 32, 60],\n",
    "    'Height': [174, 164, 168, 168, 184],\n",
    "    'Weight': [72, 90, 73, 85, 69],\n",
    "    'BMI': [23.9, 33.4, 25.8, 29.9, 20.5],\n",
    "    'Label': ['Normal weight', 'Obese', 'Overweight', 'Overweight', 'Normal weight']\n",
    "}\n",
    "df = pd.DataFrame(data)"
   ]
  },
  {
   "cell_type": "code",
   "execution_count": 55,
   "id": "bff2f3a8-abc1-4189-9c2e-e7d8f17fdf39",
   "metadata": {},
   "outputs": [
    {
     "name": "stdout",
     "output_type": "stream",
     "text": [
      "   Age  Height  Weight   BMI  Label\n",
      "0   56     174      72  23.9      1\n",
      "1   69     164      90  33.4      3\n",
      "2   46     168      73  25.8      2\n",
      "3   32     168      85  29.9      2\n",
      "4   60     184      69  20.5      1\n"
     ]
    }
   ],
   "source": [
    "label_mapping = {\n",
    "    'Underweight': 0,\n",
    "    'Normal weight': 1,\n",
    "    'Overweight': 2,\n",
    "    'Obese': 3\n",
    "}\n",
    "# Mengonversi kolom 'Label' ke nilai numerik\n",
    "df['Label'] = df['Label'].map(label_mapping)\n",
    "\n",
    "print(df)"
   ]
  },
  {
   "cell_type": "code",
   "execution_count": 57,
   "id": "9bce2cf6-9c65-4143-9221-1037fe27de2c",
   "metadata": {},
   "outputs": [],
   "source": [
    "# Split the data into X and y\n",
    "X = df.drop(columns=['Label'])\n",
    "y = df['Label']"
   ]
  },
  {
   "cell_type": "code",
   "execution_count": 59,
   "id": "ca9f0575-f068-45e7-b9fb-7340707587e2",
   "metadata": {},
   "outputs": [],
   "source": [
    "# split to train and test\n",
    "from sklearn.model_selection import train_test_split\n",
    "X_train, X_test, y_train, y_test = train_test_split(X, y, test_size=0.2, random_state=42)"
   ]
  },
  {
   "cell_type": "code",
   "execution_count": 61,
   "id": "d9e27a1d-e200-434f-b1ef-b55002ec3761",
   "metadata": {},
   "outputs": [],
   "source": [
    "# Convert values to tensor\n",
    "import torch\n",
    "import numpy as np\n",
    "dataset = {}\n",
    "\n",
    "dataset['train_input'] = torch.from_numpy(X_train.values.astype(np.float32))\n",
    "dataset['train_label'] = torch.from_numpy(y_train.values)\n",
    "dataset['test_input'] = torch.from_numpy(X_test.values.astype(np.float32))\n",
    "dataset['test_label'] = torch.from_numpy(y_test.values)"
   ]
  },
  {
   "cell_type": "code",
   "execution_count": 63,
   "id": "46a771cd-0190-468a-8084-012dea2c4cf0",
   "metadata": {},
   "outputs": [],
   "source": [
    "import torch\n",
    "from kan import KAN  # Ensure 'KAN' is defined in 'kan' module\n",
    "\n",
    "# Generate example data\n",
    "X = torch.randn(100, 20)  # 100 samples with 20 features each\n",
    "Y = torch.randint(0, 2, (100,))  # 100 binary labels\n",
    "\n",
    "# Split data into training and testing sets\n",
    "train_input = X[:80]\n",
    "train_label = Y[:80]\n",
    "test_input = X[80:]\n",
    "test_label = Y[80:]\n",
    "\n",
    "# Define the dataset dictionary\n",
    "dataset = {\n",
    "    'train_input': train_input,\n",
    "    'train_label': train_label,\n",
    "    'test_input': test_input,\n",
    "    'test_label': test_label\n",
    "}"
   ]
  },
  {
   "cell_type": "code",
   "execution_count": 65,
   "id": "f34016da-3568-4716-97cd-c13a94487fca",
   "metadata": {},
   "outputs": [],
   "source": [
    "def train_acc():\n",
    "    return torch.mean((torch.argmax(model(dataset['train_input']), dim=1) == dataset['train_label']).float())\n",
    "\n",
    "def test_acc():\n",
    "    return torch.mean((torch.argmax(model(dataset['test_input']), dim=1) == dataset['test_label']).float())\n"
   ]
  },
  {
   "cell_type": "code",
   "execution_count": 73,
   "id": "2fb2fd49-568a-4582-8b75-631d2841f444",
   "metadata": {},
   "outputs": [
    {
     "name": "stdout",
     "output_type": "stream",
     "text": [
      "Final Results:\n",
      "Train Accuracy: 100.00%\n",
      "Test Accuracy: 75.00%\n"
     ]
    }
   ],
   "source": [
    "import torch\n",
    "from kan import KAN  # Ensure 'KAN' is defined in 'kan' module\n",
    "\n",
    "# Generate example data\n",
    "X = torch.randn(100, 20)  # 100 samples with 20 features each\n",
    "Y = torch.randint(0, 2, (100,))  # 100 binary labels\n",
    "\n",
    "# Split data into training and testing sets\n",
    "train_input = X[:80]\n",
    "train_label = Y[:80]\n",
    "test_input = X[80:]\n",
    "test_label = Y[80:]\n",
    "\n",
    "# Define accuracy function\n",
    "def calculate_accuracy(model, inputs, labels):\n",
    "    predictions = torch.argmax(model(inputs), dim=1)\n",
    "    accuracy = torch.mean((predictions == labels).float())\n",
    "    return accuracy.item()\n",
    "\n",
    "# Function to format accuracy as percentage\n",
    "def format_percentage(value):\n",
    "    return f\"{value * 100:.2f}%\"\n",
    "\n",
    "# Define the KAN model\n",
    "model = KAN(width=[X.shape[1], 2])  # X shape input and 2 output (binary classification)\n",
    "\n",
    "# Define optimizer and loss function\n",
    "optimizer = torch.optim.Adam(model.parameters(), lr=0.1)\n",
    "loss_fn = torch.nn.CrossEntropyLoss()\n",
    "\n",
    "# Training loop\n",
    "num_steps = 100\n",
    "for step in range(num_steps):\n",
    "    model.train()\n",
    "    optimizer.zero_grad()\n",
    "    outputs = model(train_input)\n",
    "    loss = loss_fn(outputs, train_label)\n",
    "    loss.backward()\n",
    "    optimizer.step()\n",
    "\n",
    "# Hitung akurasi setelah pelatihan selesai\n",
    "train_accuracy = calculate_accuracy(model, train_input, train_label)\n",
    "test_accuracy = calculate_accuracy(model, test_input, test_label)\n",
    "\n",
    "# Cetak hasil akhir\n",
    "print(f\"Final Results:\")\n",
    "print(f\"Train Accuracy: {format_percentage(train_accuracy)}\")\n",
    "print(f\"Test Accuracy: {format_percentage(test_accuracy)}\")"
   ]
  },
  {
   "cell_type": "code",
   "execution_count": 68,
   "id": "047364b0-d7ec-4c3a-a38f-f66e2c9f11f4",
   "metadata": {},
   "outputs": [
    {
     "name": "stdout",
     "output_type": "stream",
     "text": [
      "fixing (0,0,0) with sin, r2=0.9923319220542908, c=2\n",
      "fixing (0,0,1) with x, r2=0.770138680934906, c=1\n",
      "fixing (0,1,0) with x, r2=0.8863974809646606, c=1\n",
      "fixing (0,1,1) with x, r2=0.7957561016082764, c=1\n",
      "fixing (0,2,0) with x, r2=0.11886122822761536, c=1\n",
      "fixing (0,2,1) with x, r2=0.460578978061676, c=1\n",
      "fixing (0,3,0) with x, r2=0.4449382722377777, c=1\n",
      "fixing (0,3,1) with x, r2=0.6032986044883728, c=1\n",
      "fixing (0,4,0) with x, r2=0.8601512312889099, c=1\n",
      "fixing (0,4,1) with x, r2=0.00626932829618454, c=1\n",
      "fixing (0,5,0) with x, r2=0.27362462878227234, c=1\n",
      "fixing (0,5,1) with x, r2=0.7579716444015503, c=1\n",
      "fixing (0,6,0) with x, r2=0.9672452211380005, c=1\n",
      "fixing (0,6,1) with x^2, r2=0.9953243136405945, c=2\n",
      "fixing (0,7,0) with sin, r2=0.977454423904419, c=2\n",
      "fixing (0,7,1) with sin, r2=0.981361985206604, c=2\n",
      "fixing (0,8,0) with x, r2=0.4909086227416992, c=1\n",
      "fixing (0,8,1) with sin, r2=0.9894014596939087, c=2\n",
      "fixing (0,9,0) with x, r2=0.8625977635383606, c=1\n",
      "fixing (0,9,1) with x, r2=0.9559077620506287, c=1\n",
      "fixing (0,10,0) with x, r2=0.04759422317147255, c=1\n",
      "fixing (0,10,1) with x, r2=0.024527307599782944, c=1\n",
      "fixing (0,11,0) with x, r2=0.5415229201316833, c=1\n",
      "fixing (0,11,1) with x, r2=0.4594718813896179, c=1\n",
      "fixing (0,12,0) with exp, r2=0.9991116523742676, c=2\n",
      "fixing (0,12,1) with x, r2=0.466460257768631, c=1\n",
      "fixing (0,13,0) with sin, r2=0.9756383299827576, c=2\n",
      "fixing (0,13,1) with sin, r2=0.9894189834594727, c=2\n",
      "fixing (0,14,0) with x, r2=0.0016447821399196982, c=1\n",
      "fixing (0,14,1) with x, r2=0.07727918773889542, c=1\n",
      "fixing (0,15,0) with sin, r2=0.9528167843818665, c=2\n",
      "fixing (0,15,1) with x, r2=6.814712833147496e-05, c=1\n",
      "fixing (0,16,0) with sin, r2=0.997439444065094, c=2\n",
      "fixing (0,16,1) with sin, r2=0.9932448863983154, c=2\n",
      "fixing (0,17,0) with x, r2=0.5245700478553772, c=1\n",
      "fixing (0,17,1) with x, r2=0.14624296128749847, c=1\n",
      "fixing (0,18,0) with x, r2=0.42522451281547546, c=1\n",
      "fixing (0,18,1) with x, r2=0.8288275599479675, c=1\n",
      "fixing (0,19,0) with x, r2=0.4981147050857544, c=1\n",
      "fixing (0,19,1) with x, r2=0.29773974418640137, c=1\n"
     ]
    }
   ],
   "source": [
    "lib = ['x','x^2','x^3','x^4','exp','log','sqrt','tanh','sin','abs']\n",
    "model.auto_symbolic(lib=lib)"
   ]
  },
  {
   "cell_type": "code",
   "execution_count": null,
   "id": "d52a0fb2-5967-453d-aa4f-d519d3259f50",
   "metadata": {},
   "outputs": [],
   "source": [
    "model.symbolic_formula()[0][0]"
   ]
  },
  {
   "cell_type": "code",
   "execution_count": null,
   "id": "15e3ce0f-6040-49e0-8ddd-a0631779894d",
   "metadata": {},
   "outputs": [],
   "source": [
    "import pandas as pd\n",
    "import torch\n",
    "import numpy as np\n",
    "\n",
    "# Predict the test data\n",
    "submission = pd.DataFrame()\n",
    "submission['BMI'] = test_id\n",
    "submission['Label'] = torch.argmax(model(torch.from_numpy(test.values.astype(np.float32))), dim=1).numpy()\n",
    "\n",
    "submission.to_csv('submission.csv', index=False)\n"
   ]
  },
  {
   "cell_type": "code",
   "execution_count": null,
   "id": "cbd26cba-2a68-4ed2-8d50-22899024f5f7",
   "metadata": {},
   "outputs": [],
   "source": []
  }
 ],
 "metadata": {
  "kernelspec": {
   "display_name": "Python 3 (ipykernel)",
   "language": "python",
   "name": "python3"
  },
  "language_info": {
   "codemirror_mode": {
    "name": "ipython",
    "version": 3
   },
   "file_extension": ".py",
   "mimetype": "text/x-python",
   "name": "python",
   "nbconvert_exporter": "python",
   "pygments_lexer": "ipython3",
   "version": "3.12.4"
  }
 },
 "nbformat": 4,
 "nbformat_minor": 5
}
